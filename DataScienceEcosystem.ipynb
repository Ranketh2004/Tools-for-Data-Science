{
 "cells": [
  {
   "cell_type": "markdown",
   "id": "079851b7-81fa-41e0-91a0-4b08572549da",
   "metadata": {},
   "source": [
    "# Data Science Tools and Ecosystem"
   ]
  },
  {
   "cell_type": "markdown",
   "id": "3ca0b071-8802-4f5a-8a2a-4373513e35f4",
   "metadata": {},
   "source": [
    " In this notebook, Data Science Tools and Ecosystem are summarized."
   ]
  },
  {
   "cell_type": "markdown",
   "id": "3ab08ab7-b3c3-472f-8f91-f8f0629bfba6",
   "metadata": {},
   "source": [
    "## Objective: ##\n",
    "+ List popular languages for Data Science\n",
    "+ Libraries used in Data Science\n",
    "+ Open source tools in Data Science\n",
    "+ Coding arithmetics expressions using python\n",
    " \n"
   ]
  },
  {
   "cell_type": "markdown",
   "id": "6f46d23d-3db8-4855-977a-e6dc0967efd2",
   "metadata": {},
   "source": [
    " Some of the popular languages that Data Scientists use are:\n",
    "1. Python\n",
    "2. R\n",
    "3. SQL"
   ]
  },
  {
   "cell_type": "markdown",
   "id": "37ffe81d-e5c6-4fe0-befc-cb6fb6cc6a3c",
   "metadata": {},
   "source": [
    " Some of the commonly used libraries used by Data Scientists include:\n",
    "1. Numpy\n",
    "2. Pandas\n",
    "3. Scikit learn"
   ]
  },
  {
   "cell_type": "markdown",
   "id": "e5b5c0a1-5708-4849-9d38-42b6fa75fa6b",
   "metadata": {},
   "source": [
    "|Data Science Tools|\n",
    "---------------------\n",
    "|R studio|\n",
    "|Apache Spark|\n",
    "|Tensorflow|"
   ]
  },
  {
   "cell_type": "markdown",
   "id": "78ef1105-cac3-40ec-9606-1183a335d3aa",
   "metadata": {},
   "source": [
    "### Below are a few examples of evaluating arithmetic expressions in Python"
   ]
  },
  {
   "cell_type": "code",
   "execution_count": 5,
   "id": "e1357641-123b-4156-abf0-22519683a0fb",
   "metadata": {},
   "outputs": [
    {
     "data": {
      "text/plain": [
       "17"
      ]
     },
     "execution_count": 5,
     "metadata": {},
     "output_type": "execute_result"
    }
   ],
   "source": [
    "#This a simple arithmetic expression to multiply then add integers\n",
    "(3*4)+5"
   ]
  },
  {
   "cell_type": "code",
   "execution_count": 7,
   "id": "2788f510-7e59-4d4c-9d60-570aadf83dd1",
   "metadata": {},
   "outputs": [
    {
     "data": {
      "text/plain": [
       "3.3333333333333335"
      ]
     },
     "execution_count": 7,
     "metadata": {},
     "output_type": "execute_result"
    }
   ],
   "source": [
    "#This will convert 200 minutes to hours by diving by 60\n",
    "200/60\n"
   ]
  },
  {
   "cell_type": "markdown",
   "id": "a0ca849f-981d-4b47-807e-53a756196ea2",
   "metadata": {},
   "source": [
    "## Author\n",
    "Sasiru"
   ]
  },
  {
   "cell_type": "code",
   "execution_count": null,
   "id": "4befa555-d34e-4ed2-a18f-3da726a4d2fa",
   "metadata": {},
   "outputs": [],
   "source": []
  }
 ],
 "metadata": {
  "kernelspec": {
   "display_name": "Python 3 (ipykernel)",
   "language": "python",
   "name": "python3"
  },
  "language_info": {
   "codemirror_mode": {
    "name": "ipython",
    "version": 3
   },
   "file_extension": ".py",
   "mimetype": "text/x-python",
   "name": "python",
   "nbconvert_exporter": "python",
   "pygments_lexer": "ipython3",
   "version": "3.11.7"
  }
 },
 "nbformat": 4,
 "nbformat_minor": 5
}
